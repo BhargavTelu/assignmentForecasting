{
 "cells": [
  {
   "cell_type": "markdown",
   "id": "62840a30",
   "metadata": {},
   "source": [
    "# Forecasting "
   ]
  },
  {
   "cell_type": "markdown",
   "id": "b7d1ec02",
   "metadata": {},
   "source": [
    "Forecast the CocaCola prices and Airlines Passengers data set. Prepare a document for each model explaining \n",
    "how many dummy variables you have created and RMSE value for each model. Finally which model you will use for \n",
    "Forecasting.\n",
    "\n",
    "#### Data - CocaCola_data"
   ]
  },
  {
   "cell_type": "markdown",
   "id": "393fbfe8",
   "metadata": {},
   "source": [
    "## Import Necessary libraries"
   ]
  },
  {
   "cell_type": "code",
   "execution_count": 1,
   "id": "cdc16d4c",
   "metadata": {},
   "outputs": [],
   "source": [
    "import pandas as pd\n",
    "import numpy as np\n",
    "\n",
    "from matplotlib import pyplot as plt\n",
    "import seaborn as sns\n",
    "\n",
    "import statsmodels.graphics.tsaplots as tsa_plots\n",
    "from pandas.plotting import lag_plot\n",
    "\n",
    "from statsmodels.tsa.holtwinters import SimpleExpSmoothing \n",
    "from statsmodels.tsa.holtwinters import Holt \n",
    "from statsmodels.tsa.holtwinters import ExponentialSmoothing\n",
    "from statsmodels.tsa.seasonal import seasonal_decompose\n",
    "\n",
    "from sklearn.metrics import mean_squared_error\n",
    "from math import sqrt\n",
    "\n",
    "import warnings\n",
    "warnings.filterwarnings('ignore')"
   ]
  },
  {
   "cell_type": "markdown",
   "id": "a9e74ba7",
   "metadata": {},
   "source": [
    "## Import Data"
   ]
  },
  {
   "cell_type": "code",
   "execution_count": 2,
   "id": "6f4d5b32",
   "metadata": {},
   "outputs": [
    {
     "data": {
      "text/html": [
       "<div>\n",
       "<style scoped>\n",
       "    .dataframe tbody tr th:only-of-type {\n",
       "        vertical-align: middle;\n",
       "    }\n",
       "\n",
       "    .dataframe tbody tr th {\n",
       "        vertical-align: top;\n",
       "    }\n",
       "\n",
       "    .dataframe thead th {\n",
       "        text-align: right;\n",
       "    }\n",
       "</style>\n",
       "<table border=\"1\" class=\"dataframe\">\n",
       "  <thead>\n",
       "    <tr style=\"text-align: right;\">\n",
       "      <th></th>\n",
       "      <th>Quarter</th>\n",
       "      <th>Sales</th>\n",
       "    </tr>\n",
       "  </thead>\n",
       "  <tbody>\n",
       "    <tr>\n",
       "      <th>0</th>\n",
       "      <td>Q1_86</td>\n",
       "      <td>1734.827000</td>\n",
       "    </tr>\n",
       "    <tr>\n",
       "      <th>1</th>\n",
       "      <td>Q2_86</td>\n",
       "      <td>2244.960999</td>\n",
       "    </tr>\n",
       "    <tr>\n",
       "      <th>2</th>\n",
       "      <td>Q3_86</td>\n",
       "      <td>2533.804993</td>\n",
       "    </tr>\n",
       "    <tr>\n",
       "      <th>3</th>\n",
       "      <td>Q4_86</td>\n",
       "      <td>2154.962997</td>\n",
       "    </tr>\n",
       "    <tr>\n",
       "      <th>4</th>\n",
       "      <td>Q1_87</td>\n",
       "      <td>1547.818996</td>\n",
       "    </tr>\n",
       "    <tr>\n",
       "      <th>5</th>\n",
       "      <td>Q2_87</td>\n",
       "      <td>2104.411995</td>\n",
       "    </tr>\n",
       "    <tr>\n",
       "      <th>6</th>\n",
       "      <td>Q3_87</td>\n",
       "      <td>2014.362999</td>\n",
       "    </tr>\n",
       "    <tr>\n",
       "      <th>7</th>\n",
       "      <td>Q4_87</td>\n",
       "      <td>1991.746998</td>\n",
       "    </tr>\n",
       "  </tbody>\n",
       "</table>\n",
       "</div>"
      ],
      "text/plain": [
       "  Quarter        Sales\n",
       "0   Q1_86  1734.827000\n",
       "1   Q2_86  2244.960999\n",
       "2   Q3_86  2533.804993\n",
       "3   Q4_86  2154.962997\n",
       "4   Q1_87  1547.818996\n",
       "5   Q2_87  2104.411995\n",
       "6   Q3_87  2014.362999\n",
       "7   Q4_87  1991.746998"
      ]
     },
     "execution_count": 2,
     "metadata": {},
     "output_type": "execute_result"
    }
   ],
   "source": [
    "CocaCola_data = pd.read_excel('CocaCola_Sales_Rawdata.xlsx')\n",
    "CocaCola_data.head(8)"
   ]
  },
  {
   "cell_type": "markdown",
   "id": "1935b9ea",
   "metadata": {},
   "source": [
    "## Data Understanding"
   ]
  },
  {
   "cell_type": "code",
   "execution_count": 3,
   "id": "c6bdddb5",
   "metadata": {},
   "outputs": [
    {
     "data": {
      "text/plain": [
       "(42, 2)"
      ]
     },
     "execution_count": 3,
     "metadata": {},
     "output_type": "execute_result"
    }
   ],
   "source": [
    "CocaCola_data.shape"
   ]
  },
  {
   "cell_type": "code",
   "execution_count": 4,
   "id": "beeef403",
   "metadata": {},
   "outputs": [
    {
     "name": "stdout",
     "output_type": "stream",
     "text": [
      "<class 'pandas.core.frame.DataFrame'>\n",
      "RangeIndex: 42 entries, 0 to 41\n",
      "Data columns (total 2 columns):\n",
      " #   Column   Non-Null Count  Dtype  \n",
      "---  ------   --------------  -----  \n",
      " 0   Quarter  42 non-null     object \n",
      " 1   Sales    42 non-null     float64\n",
      "dtypes: float64(1), object(1)\n",
      "memory usage: 800.0+ bytes\n"
     ]
    }
   ],
   "source": [
    "CocaCola_data.info()"
   ]
  },
  {
   "cell_type": "code",
   "execution_count": 5,
   "id": "032cd882",
   "metadata": {},
   "outputs": [
    {
     "data": {
      "text/plain": [
       "Index(['Quarter', 'Sales'], dtype='object')"
      ]
     },
     "execution_count": 5,
     "metadata": {},
     "output_type": "execute_result"
    }
   ],
   "source": [
    "CocaCola_data.columns"
   ]
  },
  {
   "cell_type": "code",
   "execution_count": 6,
   "id": "55c190c0",
   "metadata": {},
   "outputs": [
    {
     "data": {
      "text/html": [
       "<div>\n",
       "<style scoped>\n",
       "    .dataframe tbody tr th:only-of-type {\n",
       "        vertical-align: middle;\n",
       "    }\n",
       "\n",
       "    .dataframe tbody tr th {\n",
       "        vertical-align: top;\n",
       "    }\n",
       "\n",
       "    .dataframe thead th {\n",
       "        text-align: right;\n",
       "    }\n",
       "</style>\n",
       "<table border=\"1\" class=\"dataframe\">\n",
       "  <thead>\n",
       "    <tr style=\"text-align: right;\">\n",
       "      <th></th>\n",
       "      <th>Quarter</th>\n",
       "      <th>Sales</th>\n",
       "      <th>quater</th>\n",
       "    </tr>\n",
       "  </thead>\n",
       "  <tbody>\n",
       "    <tr>\n",
       "      <th>0</th>\n",
       "      <td>Q1_86</td>\n",
       "      <td>1734.827000</td>\n",
       "      <td>Jan-1986</td>\n",
       "    </tr>\n",
       "    <tr>\n",
       "      <th>1</th>\n",
       "      <td>Q2_86</td>\n",
       "      <td>2244.960999</td>\n",
       "      <td>Apr-1986</td>\n",
       "    </tr>\n",
       "    <tr>\n",
       "      <th>2</th>\n",
       "      <td>Q3_86</td>\n",
       "      <td>2533.804993</td>\n",
       "      <td>Jul-1986</td>\n",
       "    </tr>\n",
       "    <tr>\n",
       "      <th>3</th>\n",
       "      <td>Q4_86</td>\n",
       "      <td>2154.962997</td>\n",
       "      <td>Oct-1986</td>\n",
       "    </tr>\n",
       "    <tr>\n",
       "      <th>4</th>\n",
       "      <td>Q1_87</td>\n",
       "      <td>1547.818996</td>\n",
       "      <td>Jan-1987</td>\n",
       "    </tr>\n",
       "  </tbody>\n",
       "</table>\n",
       "</div>"
      ],
      "text/plain": [
       "  Quarter        Sales    quater\n",
       "0   Q1_86  1734.827000  Jan-1986\n",
       "1   Q2_86  2244.960999  Apr-1986\n",
       "2   Q3_86  2533.804993  Jul-1986\n",
       "3   Q4_86  2154.962997  Oct-1986\n",
       "4   Q1_87  1547.818996  Jan-1987"
      ]
     },
     "execution_count": 6,
     "metadata": {},
     "output_type": "execute_result"
    }
   ],
   "source": [
    "Temp_Data = CocaCola_data.Quarter.str.replace(r'(Q\\d)_(\\d+)', r'19\\2-\\1')\n",
    "CocaCola_data['quater'] = pd.to_datetime(Temp_Data).dt.strftime('%b-%Y')\n",
    "CocaCola_data.head()"
   ]
  },
  {
   "cell_type": "code",
   "execution_count": 7,
   "id": "6f428b35",
   "metadata": {},
   "outputs": [
    {
     "data": {
      "image/png": "[encoded data removed]",
      "text/plain": [
       "<Figure size 800x500 with 1 Axes>"
      ]
     },
     "metadata": {},
     "output_type": "display_data"
    }
   ],
   "source": [
    "plt.xlabel(\"Date\")\n",
    "plt.ylabel(\"Sales\")\n",
    "CocaCola_data['Sales'].plot(figsize = (8, 5))\n",
    "\n",
    "plt.show()"
   ]
  },
  {
   "cell_type": "code",
   "execution_count": 8,
   "id": "f51bb6ce",
   "metadata": {},
   "outputs": [
    {
     "data": {
      "image/png": "[encoded data removed]",
      "text/plain": [
       "<Figure size 640x480 with 1 Axes>"
      ]
     },
     "metadata": {},
     "output_type": "display_data"
    }
   ],
   "source": [
    "ax = plt.axes()\n",
    "\n",
    "lag_plot(CocaCola_data['Sales'])\n",
    "\n",
    "plt.show()"
   ]
  },
  {
   "cell_type": "code",
   "execution_count": 9,
   "id": "c1d1f5ed",
   "metadata": {},
   "outputs": [
    {
     "data": {
      "image/png": "[encoded data removed]",
      "text/plain": [
       "<Figure size 640x480 with 1 Axes>"
      ]
     },
     "metadata": {},
     "output_type": "display_data"
    },
    {
     "data": {
      "image/png": "[encoded data removed]",
      "text/plain": [
       "<Figure size 640x480 with 1 Axes>"
      ]
     },
     "metadata": {},
     "output_type": "display_data"
    }
   ],
   "source": [
    "tsa_plots.plot_acf(CocaCola_data['Sales'],lags = 20)\n",
    "\n",
    "tsa_plots.plot_pacf(CocaCola_data['Sales'],lags = 20)\n",
    "\n",
    "plt.show()"
   ]
  },
  {
   "cell_type": "markdown",
   "id": "60a74572",
   "metadata": {},
   "source": [
    "## Train Test Split"
   ]
  },
  {
   "cell_type": "code",
   "execution_count": 10,
   "id": "4f898220",
   "metadata": {},
   "outputs": [
    {
     "data": {
      "text/plain": [
       "(42, 3)"
      ]
     },
     "execution_count": 10,
     "metadata": {},
     "output_type": "execute_result"
    }
   ],
   "source": [
    "CocaCola_data.shape"
   ]
  },
  {
   "cell_type": "code",
   "execution_count": 11,
   "id": "70b2debc",
   "metadata": {},
   "outputs": [],
   "source": [
    "Train = CocaCola_data.head(35)\n",
    "Test = CocaCola_data.tail(7)"
   ]
  },
  {
   "cell_type": "code",
   "execution_count": 12,
   "id": "1a45b030",
   "metadata": {},
   "outputs": [
    {
     "data": {
      "text/html": [
       "<div>\n",
       "<style scoped>\n",
       "    .dataframe tbody tr th:only-of-type {\n",
       "        vertical-align: middle;\n",
       "    }\n",
       "\n",
       "    .dataframe tbody tr th {\n",
       "        vertical-align: top;\n",
       "    }\n",
       "\n",
       "    .dataframe thead th {\n",
       "        text-align: right;\n",
       "    }\n",
       "</style>\n",
       "<table border=\"1\" class=\"dataframe\">\n",
       "  <thead>\n",
       "    <tr style=\"text-align: right;\">\n",
       "      <th></th>\n",
       "      <th>Quarter</th>\n",
       "      <th>Sales</th>\n",
       "      <th>quater</th>\n",
       "    </tr>\n",
       "  </thead>\n",
       "  <tbody>\n",
       "    <tr>\n",
       "      <th>35</th>\n",
       "      <td>Q4_94</td>\n",
       "      <td>4017.0</td>\n",
       "      <td>Oct-1994</td>\n",
       "    </tr>\n",
       "    <tr>\n",
       "      <th>36</th>\n",
       "      <td>Q1_95</td>\n",
       "      <td>3854.0</td>\n",
       "      <td>Jan-1995</td>\n",
       "    </tr>\n",
       "    <tr>\n",
       "      <th>37</th>\n",
       "      <td>Q2_95</td>\n",
       "      <td>4936.0</td>\n",
       "      <td>Apr-1995</td>\n",
       "    </tr>\n",
       "    <tr>\n",
       "      <th>38</th>\n",
       "      <td>Q3_95</td>\n",
       "      <td>4895.0</td>\n",
       "      <td>Jul-1995</td>\n",
       "    </tr>\n",
       "    <tr>\n",
       "      <th>39</th>\n",
       "      <td>Q4_95</td>\n",
       "      <td>4333.0</td>\n",
       "      <td>Oct-1995</td>\n",
       "    </tr>\n",
       "    <tr>\n",
       "      <th>40</th>\n",
       "      <td>Q1_96</td>\n",
       "      <td>4194.0</td>\n",
       "      <td>Jan-1996</td>\n",
       "    </tr>\n",
       "    <tr>\n",
       "      <th>41</th>\n",
       "      <td>Q2_96</td>\n",
       "      <td>5253.0</td>\n",
       "      <td>Apr-1996</td>\n",
       "    </tr>\n",
       "  </tbody>\n",
       "</table>\n",
       "</div>"
      ],
      "text/plain": [
       "   Quarter   Sales    quater\n",
       "35   Q4_94  4017.0  Oct-1994\n",
       "36   Q1_95  3854.0  Jan-1995\n",
       "37   Q2_95  4936.0  Apr-1995\n",
       "38   Q3_95  4895.0  Jul-1995\n",
       "39   Q4_95  4333.0  Oct-1995\n",
       "40   Q1_96  4194.0  Jan-1996\n",
       "41   Q2_96  5253.0  Apr-1996"
      ]
     },
     "execution_count": 12,
     "metadata": {},
     "output_type": "execute_result"
    }
   ],
   "source": [
    "Test"
   ]
  },
  {
   "cell_type": "markdown",
   "id": "f4e5fe8c",
   "metadata": {},
   "source": [
    "## Plotting the Moving Average"
   ]
  },
  {
   "cell_type": "code",
   "execution_count": 13,
   "id": "d2a445ae",
   "metadata": {},
   "outputs": [
    {
     "data": {
      "image/png": "[encoded data removed]",
      "text/plain": [
       "<Figure size 1500x500 with 1 Axes>"
      ]
     },
     "metadata": {},
     "output_type": "display_data"
    }
   ],
   "source": [
    "plt.figure(figsize = (15,5))\n",
    "CocaCola_data[\"Sales\"].plot(label = \"org\")\n",
    "\n",
    "for i in range(2,8,2):\n",
    "    CocaCola_data[\"Sales\"].rolling(i).mean().plot(label = str(i))\n",
    "    \n",
    "plt.legend(loc = 'best')\n",
    "plt.show()"
   ]
  },
  {
   "cell_type": "markdown",
   "id": "c467ffae",
   "metadata": {},
   "source": [
    "## Time series decomposition plot "
   ]
  },
  {
   "cell_type": "code",
   "execution_count": 14,
   "id": "6ec1e102",
   "metadata": {},
   "outputs": [
    {
     "data": {
      "image/png": "[encoded data removed]",
      "text/plain": [
       "<Figure size 640x480 with 4 Axes>"
      ]
     },
     "metadata": {},
     "output_type": "display_data"
    }
   ],
   "source": [
    "ts_decompose = seasonal_decompose(CocaCola_data[\"Sales\"],period = 7)\n",
    "ts_decompose.plot()\n",
    "plt.show()"
   ]
  },
  {
   "cell_type": "markdown",
   "id": "d8e36847",
   "metadata": {},
   "source": [
    "## Evaluation Metric RMSE"
   ]
  },
  {
   "cell_type": "code",
   "execution_count": 15,
   "id": "97634cac",
   "metadata": {},
   "outputs": [],
   "source": [
    "def RMSE(org, pred):\n",
    "    rmse = np.sqrt(np.mean((np.array(org)-np.array(pred))**2))\n",
    "    return rmse"
   ]
  },
  {
   "cell_type": "code",
   "execution_count": 44,
   "id": "60fd91dd",
   "metadata": {},
   "outputs": [
    {
     "data": {
      "text/plain": [
       "5.0"
      ]
     },
     "execution_count": 44,
     "metadata": {},
     "output_type": "execute_result"
    }
   ],
   "source": [
    "RMSE(5,10)"
   ]
  },
  {
   "cell_type": "markdown",
   "id": "bf4f07b9",
   "metadata": {},
   "source": [
    "### 1. Simple Exponential Method "
   ]
  },
  {
   "cell_type": "code",
   "execution_count": 16,
   "id": "34389d8e",
   "metadata": {},
   "outputs": [],
   "source": [
    "simple_model = SimpleExpSmoothing(Train[\"Sales\"]).fit()\n",
    "pred_y_sem = simple_model.predict(start = Test.index[0],end = Test.index[-1])"
   ]
  },
  {
   "cell_type": "code",
   "execution_count": 17,
   "id": "89b891a3",
   "metadata": {},
   "outputs": [
    {
     "name": "stdout",
     "output_type": "stream",
     "text": [
      "RMSE Value of Simple Exponential : 532.9747246731538\n"
     ]
    }
   ],
   "source": [
    "SEM=RMSE(Test.Sales, pred_y_sem)\n",
    "print('RMSE Value of Simple Exponential :',RMSE(Test.Sales, pred_y_sem))"
   ]
  },
  {
   "cell_type": "markdown",
   "id": "6e9736f5",
   "metadata": {},
   "source": [
    "### 2. Holt method "
   ]
  },
  {
   "cell_type": "code",
   "execution_count": 18,
   "id": "e71b3b91",
   "metadata": {},
   "outputs": [],
   "source": [
    "holt_model = Holt(Train[\"Sales\"]).fit()\n",
    "pred_y_holt = holt_model.predict(start = Test.index[0],end = Test.index[-1])"
   ]
  },
  {
   "cell_type": "code",
   "execution_count": 19,
   "id": "56263436",
   "metadata": {},
   "outputs": [
    {
     "name": "stdout",
     "output_type": "stream",
     "text": [
      "RMSE Value of Holt : 471.77866342632706\n"
     ]
    }
   ],
   "source": [
    "HM=RMSE(Test.Sales, pred_y_holt)\n",
    "print('RMSE Value of Holt :',RMSE(Test.Sales, pred_y_holt))"
   ]
  },
  {
   "cell_type": "markdown",
   "id": "8e8212c2",
   "metadata": {},
   "source": [
    "### 3 Holts winter exponential smoothing with additive seasonality and additive trend"
   ]
  },
  {
   "cell_type": "code",
   "execution_count": 20,
   "id": "c9f1372e",
   "metadata": {},
   "outputs": [],
   "source": [
    "holt_model_add_add = ExponentialSmoothing(Train[\"Sales\"],seasonal = \"add\",trend = \"add\",seasonal_periods = 4).fit()\n",
    "pred_holt_add_add = holt_model_add_add.predict(start = Test.index[0],end = Test.index[-1])"
   ]
  },
  {
   "cell_type": "code",
   "execution_count": 21,
   "id": "f5c25a41",
   "metadata": {},
   "outputs": [
    {
     "name": "stdout",
     "output_type": "stream",
     "text": [
      "RMSE Value of Holts add and add : 259.796962833617\n"
     ]
    }
   ],
   "source": [
    "HWEA=RMSE(Test.Sales, pred_holt_add_add)\n",
    "print('RMSE Value of Holts add and add :',RMSE(Test.Sales, pred_holt_add_add))"
   ]
  },
  {
   "cell_type": "markdown",
   "id": "7a808b24",
   "metadata": {},
   "source": [
    "### 4 Holts winter exponential smoothing with multiplicative seasonality and additive trend"
   ]
  },
  {
   "cell_type": "code",
   "execution_count": 22,
   "id": "ea8a1b23",
   "metadata": {},
   "outputs": [],
   "source": [
    "holt_model_multi_add = ExponentialSmoothing(Train[\"Sales\"],seasonal = \"mul\",trend = \"add\",seasonal_periods = 4).fit() \n",
    "pred_holt_multi_add = holt_model_multi_add.predict(start = Test.index[0],end = Test.index[-1])"
   ]
  },
  {
   "cell_type": "code",
   "execution_count": 23,
   "id": "44280db3",
   "metadata": {},
   "outputs": [
    {
     "name": "stdout",
     "output_type": "stream",
     "text": [
      "RMSE Value of Holts Multi and add : 69.13321788101135\n"
     ]
    }
   ],
   "source": [
    "HWEM=RMSE(Test.Sales, pred_holt_multi_add)\n",
    "print('RMSE Value of Holts Multi and add :',RMSE(Test.Sales, pred_holt_multi_add))"
   ]
  },
  {
   "cell_type": "markdown",
   "id": "81c89646",
   "metadata": {},
   "source": [
    "# Model based Forecasting Methods"
   ]
  },
  {
   "cell_type": "markdown",
   "id": "737ade22",
   "metadata": {},
   "source": [
    "## Data preprocessing"
   ]
  },
  {
   "cell_type": "code",
   "execution_count": 24,
   "id": "40ce2b01",
   "metadata": {},
   "outputs": [
    {
     "data": {
      "text/html": [
       "<div>\n",
       "<style scoped>\n",
       "    .dataframe tbody tr th:only-of-type {\n",
       "        vertical-align: middle;\n",
       "    }\n",
       "\n",
       "    .dataframe tbody tr th {\n",
       "        vertical-align: top;\n",
       "    }\n",
       "\n",
       "    .dataframe thead th {\n",
       "        text-align: right;\n",
       "    }\n",
       "</style>\n",
       "<table border=\"1\" class=\"dataframe\">\n",
       "  <thead>\n",
       "    <tr style=\"text-align: right;\">\n",
       "      <th></th>\n",
       "      <th>Quarter</th>\n",
       "      <th>Sales</th>\n",
       "      <th>quater</th>\n",
       "    </tr>\n",
       "  </thead>\n",
       "  <tbody>\n",
       "    <tr>\n",
       "      <th>0</th>\n",
       "      <td>Q1_86</td>\n",
       "      <td>1734.827000</td>\n",
       "      <td>Jan-1986</td>\n",
       "    </tr>\n",
       "    <tr>\n",
       "      <th>1</th>\n",
       "      <td>Q2_86</td>\n",
       "      <td>2244.960999</td>\n",
       "      <td>Apr-1986</td>\n",
       "    </tr>\n",
       "    <tr>\n",
       "      <th>2</th>\n",
       "      <td>Q3_86</td>\n",
       "      <td>2533.804993</td>\n",
       "      <td>Jul-1986</td>\n",
       "    </tr>\n",
       "    <tr>\n",
       "      <th>3</th>\n",
       "      <td>Q4_86</td>\n",
       "      <td>2154.962997</td>\n",
       "      <td>Oct-1986</td>\n",
       "    </tr>\n",
       "    <tr>\n",
       "      <th>4</th>\n",
       "      <td>Q1_87</td>\n",
       "      <td>1547.818996</td>\n",
       "      <td>Jan-1987</td>\n",
       "    </tr>\n",
       "  </tbody>\n",
       "</table>\n",
       "</div>"
      ],
      "text/plain": [
       "  Quarter        Sales    quater\n",
       "0   Q1_86  1734.827000  Jan-1986\n",
       "1   Q2_86  2244.960999  Apr-1986\n",
       "2   Q3_86  2533.804993  Jul-1986\n",
       "3   Q4_86  2154.962997  Oct-1986\n",
       "4   Q1_87  1547.818996  Jan-1987"
      ]
     },
     "execution_count": 24,
     "metadata": {},
     "output_type": "execute_result"
    }
   ],
   "source": [
    "Sales_Data = CocaCola_data.copy()\n",
    "Sales_Data.head()"
   ]
  },
  {
   "cell_type": "code",
   "execution_count": 25,
   "id": "5ef95aa5",
   "metadata": {},
   "outputs": [
    {
     "data": {
      "text/html": [
       "<div>\n",
       "<style scoped>\n",
       "    .dataframe tbody tr th:only-of-type {\n",
       "        vertical-align: middle;\n",
       "    }\n",
       "\n",
       "    .dataframe tbody tr th {\n",
       "        vertical-align: top;\n",
       "    }\n",
       "\n",
       "    .dataframe thead th {\n",
       "        text-align: right;\n",
       "    }\n",
       "</style>\n",
       "<table border=\"1\" class=\"dataframe\">\n",
       "  <thead>\n",
       "    <tr style=\"text-align: right;\">\n",
       "      <th></th>\n",
       "      <th>Quarter</th>\n",
       "      <th>Sales</th>\n",
       "      <th>quater</th>\n",
       "      <th>t</th>\n",
       "      <th>t_squared</th>\n",
       "      <th>log_Sales</th>\n",
       "    </tr>\n",
       "  </thead>\n",
       "  <tbody>\n",
       "    <tr>\n",
       "      <th>0</th>\n",
       "      <td>Q1_86</td>\n",
       "      <td>1734.827000</td>\n",
       "      <td>Jan-1986</td>\n",
       "      <td>1</td>\n",
       "      <td>1</td>\n",
       "      <td>7.458663</td>\n",
       "    </tr>\n",
       "    <tr>\n",
       "      <th>1</th>\n",
       "      <td>Q2_86</td>\n",
       "      <td>2244.960999</td>\n",
       "      <td>Apr-1986</td>\n",
       "      <td>2</td>\n",
       "      <td>4</td>\n",
       "      <td>7.716443</td>\n",
       "    </tr>\n",
       "    <tr>\n",
       "      <th>2</th>\n",
       "      <td>Q3_86</td>\n",
       "      <td>2533.804993</td>\n",
       "      <td>Jul-1986</td>\n",
       "      <td>3</td>\n",
       "      <td>9</td>\n",
       "      <td>7.837477</td>\n",
       "    </tr>\n",
       "    <tr>\n",
       "      <th>3</th>\n",
       "      <td>Q4_86</td>\n",
       "      <td>2154.962997</td>\n",
       "      <td>Oct-1986</td>\n",
       "      <td>4</td>\n",
       "      <td>16</td>\n",
       "      <td>7.675529</td>\n",
       "    </tr>\n",
       "    <tr>\n",
       "      <th>4</th>\n",
       "      <td>Q1_87</td>\n",
       "      <td>1547.818996</td>\n",
       "      <td>Jan-1987</td>\n",
       "      <td>5</td>\n",
       "      <td>25</td>\n",
       "      <td>7.344602</td>\n",
       "    </tr>\n",
       "  </tbody>\n",
       "</table>\n",
       "</div>"
      ],
      "text/plain": [
       "  Quarter        Sales    quater  t  t_squared  log_Sales\n",
       "0   Q1_86  1734.827000  Jan-1986  1          1   7.458663\n",
       "1   Q2_86  2244.960999  Apr-1986  2          4   7.716443\n",
       "2   Q3_86  2533.804993  Jul-1986  3          9   7.837477\n",
       "3   Q4_86  2154.962997  Oct-1986  4         16   7.675529\n",
       "4   Q1_87  1547.818996  Jan-1987  5         25   7.344602"
      ]
     },
     "execution_count": 25,
     "metadata": {},
     "output_type": "execute_result"
    }
   ],
   "source": [
    "Sales_Data[\"t\"] = np.arange(1,43)\n",
    "Sales_Data[\"t_squared\"] = Sales_Data[\"t\"]*Sales_Data[\"t\"]\n",
    "\n",
    "Sales_Data[\"log_Sales\"] = np.log(Sales_Data[\"Sales\"])\n",
    "Sales_Data.head()"
   ]
  },
  {
   "cell_type": "markdown",
   "id": "e50a607d",
   "metadata": {},
   "source": [
    "## Train Test Split"
   ]
  },
  {
   "cell_type": "code",
   "execution_count": 26,
   "id": "55f59fb5",
   "metadata": {},
   "outputs": [],
   "source": [
    "Train = Sales_Data.head(35)\n",
    "Test = Sales_Data.tail(7)"
   ]
  },
  {
   "cell_type": "markdown",
   "id": "adfade56",
   "metadata": {},
   "source": [
    "## Linear Model "
   ]
  },
  {
   "cell_type": "code",
   "execution_count": 27,
   "id": "400066be",
   "metadata": {},
   "outputs": [],
   "source": [
    "import statsmodels.formula.api as smf "
   ]
  },
  {
   "cell_type": "code",
   "execution_count": 28,
   "id": "f10c4141",
   "metadata": {},
   "outputs": [
    {
     "name": "stdout",
     "output_type": "stream",
     "text": [
      "RMSE Value of Linear : 636.5072930351143\n"
     ]
    }
   ],
   "source": [
    "linear_model = smf.ols('Sales~t',data = Train).fit()\n",
    "pred_linear =  pd.Series(linear_model.predict(pd.DataFrame(Test['t'])))\n",
    "\n",
    "LM=RMSE(Test['Sales'], pred_linear)\n",
    "print('RMSE Value of Linear :',RMSE(Test['Sales'], pred_linear))"
   ]
  },
  {
   "cell_type": "markdown",
   "id": "835152e3",
   "metadata": {},
   "source": [
    "## Exponential Model "
   ]
  },
  {
   "cell_type": "code",
   "execution_count": 29,
   "id": "115a3710",
   "metadata": {},
   "outputs": [
    {
     "name": "stdout",
     "output_type": "stream",
     "text": [
      "RMSE Value of Exponential : 493.34864848421216\n"
     ]
    }
   ],
   "source": [
    "Exp_model = smf.ols('log_Sales~t',data = Train).fit()\n",
    "pred_Exp = pd.Series(Exp_model.predict(pd.DataFrame(Test['t'])))\n",
    "\n",
    "EM=RMSE(Test['Sales'], np.exp(pred_Exp))\n",
    "print('RMSE Value of Exponential :',RMSE(Test['Sales'], np.exp(pred_Exp)))"
   ]
  },
  {
   "cell_type": "markdown",
   "id": "ad50e586",
   "metadata": {},
   "source": [
    "##  Quadratic Model "
   ]
  },
  {
   "cell_type": "code",
   "execution_count": 30,
   "id": "d7696445",
   "metadata": {},
   "outputs": [
    {
     "name": "stdout",
     "output_type": "stream",
     "text": [
      "RMSE Value of Quadratic : 511.811731941731\n"
     ]
    }
   ],
   "source": [
    "Quad_model= smf.ols('Sales~t+t_squared',data = Train).fit()\n",
    "pred_Quad = pd.Series(Quad_model.predict(Test[[\"t\",\"t_squared\"]]))\n",
    "\n",
    "QM=RMSE(Test['Sales'], pred_Quad)\n",
    "print('RMSE Value of Quadratic :',RMSE(Test['Sales'], pred_Quad))"
   ]
  },
  {
   "cell_type": "markdown",
   "id": "a5dfea70",
   "metadata": {},
   "source": [
    "## ARIMA model"
   ]
  },
  {
   "cell_type": "code",
   "execution_count": 31,
   "id": "8ed5e1a6",
   "metadata": {},
   "outputs": [
    {
     "data": {
      "text/html": [
       "<div>\n",
       "<style scoped>\n",
       "    .dataframe tbody tr th:only-of-type {\n",
       "        vertical-align: middle;\n",
       "    }\n",
       "\n",
       "    .dataframe tbody tr th {\n",
       "        vertical-align: top;\n",
       "    }\n",
       "\n",
       "    .dataframe thead th {\n",
       "        text-align: right;\n",
       "    }\n",
       "</style>\n",
       "<table border=\"1\" class=\"dataframe\">\n",
       "  <thead>\n",
       "    <tr style=\"text-align: right;\">\n",
       "      <th></th>\n",
       "      <th>Quarter</th>\n",
       "      <th>Sales</th>\n",
       "      <th>quater</th>\n",
       "    </tr>\n",
       "  </thead>\n",
       "  <tbody>\n",
       "    <tr>\n",
       "      <th>0</th>\n",
       "      <td>Q1_86</td>\n",
       "      <td>1734.827000</td>\n",
       "      <td>Jan-1986</td>\n",
       "    </tr>\n",
       "    <tr>\n",
       "      <th>1</th>\n",
       "      <td>Q2_86</td>\n",
       "      <td>2244.960999</td>\n",
       "      <td>Apr-1986</td>\n",
       "    </tr>\n",
       "    <tr>\n",
       "      <th>2</th>\n",
       "      <td>Q3_86</td>\n",
       "      <td>2533.804993</td>\n",
       "      <td>Jul-1986</td>\n",
       "    </tr>\n",
       "    <tr>\n",
       "      <th>3</th>\n",
       "      <td>Q4_86</td>\n",
       "      <td>2154.962997</td>\n",
       "      <td>Oct-1986</td>\n",
       "    </tr>\n",
       "    <tr>\n",
       "      <th>4</th>\n",
       "      <td>Q1_87</td>\n",
       "      <td>1547.818996</td>\n",
       "      <td>Jan-1987</td>\n",
       "    </tr>\n",
       "  </tbody>\n",
       "</table>\n",
       "</div>"
      ],
      "text/plain": [
       "  Quarter        Sales    quater\n",
       "0   Q1_86  1734.827000  Jan-1986\n",
       "1   Q2_86  2244.960999  Apr-1986\n",
       "2   Q3_86  2533.804993  Jul-1986\n",
       "3   Q4_86  2154.962997  Oct-1986\n",
       "4   Q1_87  1547.818996  Jan-1987"
      ]
     },
     "execution_count": 31,
     "metadata": {},
     "output_type": "execute_result"
    }
   ],
   "source": [
    "series = CocaCola_data.copy()\n",
    "series.head()"
   ]
  },
  {
   "cell_type": "markdown",
   "id": "47de82d5",
   "metadata": {},
   "source": [
    "## Creating a validation dataset "
   ]
  },
  {
   "cell_type": "code",
   "execution_count": 32,
   "id": "780774e0",
   "metadata": {},
   "outputs": [
    {
     "name": "stdout",
     "output_type": "stream",
     "text": [
      "Dataset 30, Validation 12\n"
     ]
    }
   ],
   "source": [
    "split_point = len(series) - 12\n",
    "dataset, validation = series[0:split_point], series[split_point:]\n",
    "print('Dataset %d, Validation %d' % (len(dataset), len(validation)))\n",
    "dataset.to_csv('dataset.csv', header = False)\n",
    "validation.to_csv('validation.csv', header = False)"
   ]
  },
  {
   "cell_type": "markdown",
   "id": "d2dd86bd",
   "metadata": {},
   "source": [
    "## Creating a Base model for Evaluation"
   ]
  },
  {
   "cell_type": "code",
   "execution_count": 35,
   "id": "0189e9c4",
   "metadata": {},
   "outputs": [
    {
     "data": {
      "text/plain": [
       "0    1734.827000\n",
       "1    2244.960999\n",
       "2    2533.804993\n",
       "3    2154.962997\n",
       "4    1547.818996\n",
       "Name: Sales, dtype: float64"
      ]
     },
     "execution_count": 35,
     "metadata": {},
     "output_type": "execute_result"
    }
   ],
   "source": [
    "Arima_train = pd.read_excel(\"CocaCola_Sales_Rawdata.xlsx\")\n",
    "Arima_train =Arima_train[\"Sales\"]\n",
    "Arima_train.head()"
   ]
  },
  {
   "cell_type": "code",
   "execution_count": 36,
   "id": "27afabc2",
   "metadata": {
    "scrolled": true
   },
   "outputs": [],
   "source": [
    "X = Arima_train.values\n",
    "X = X.astype('float32')\n",
    "train_size = int(len(X) * 0.715)\n",
    "train, test = X[0:train_size], X[train_size:]"
   ]
  },
  {
   "cell_type": "code",
   "execution_count": 37,
   "id": "3c779cbb",
   "metadata": {},
   "outputs": [
    {
     "name": "stdout",
     "output_type": "stream",
     "text": [
      "(30,)\n",
      "(12,)\n"
     ]
    }
   ],
   "source": [
    "print(train.shape)\n",
    "print(test.shape)"
   ]
  },
  {
   "cell_type": "markdown",
   "id": "008ee8bf",
   "metadata": {},
   "source": [
    "## 8.3 Walk Farward Validation :"
   ]
  },
  {
   "cell_type": "code",
   "execution_count": 38,
   "id": "e15eacfb",
   "metadata": {},
   "outputs": [],
   "source": [
    "history = [x for x in train]\n",
    "predictions = list()"
   ]
  },
  {
   "cell_type": "code",
   "execution_count": 39,
   "id": "abcc889f",
   "metadata": {},
   "outputs": [
    {
     "name": "stdout",
     "output_type": "stream",
     "text": [
      ">Predicted=3899.000, Expected=3629.000\n",
      ">Predicted=3629.000, Expected=3373.000\n",
      ">Predicted=3373.000, Expected=3352.000\n",
      ">Predicted=3352.000, Expected=4342.000\n",
      ">Predicted=4342.000, Expected=4461.000\n",
      ">Predicted=4461.000, Expected=4017.000\n",
      ">Predicted=4017.000, Expected=3854.000\n",
      ">Predicted=3854.000, Expected=4936.000\n",
      ">Predicted=4936.000, Expected=4895.000\n",
      ">Predicted=4895.000, Expected=4333.000\n",
      ">Predicted=4333.000, Expected=4194.000\n",
      ">Predicted=4194.000, Expected=5253.000\n"
     ]
    }
   ],
   "source": [
    "for i in range(len(test)):\n",
    "    yhat = history[-1]\n",
    "    predictions.append(yhat)\n",
    "\n",
    "    obs = test[i]\n",
    "    history.append(obs)\n",
    "    print('>Predicted=%.3f, Expected=%.3f' % (yhat, obs))"
   ]
  },
  {
   "cell_type": "code",
   "execution_count": 40,
   "id": "597c6ab3",
   "metadata": {},
   "outputs": [],
   "source": [
    "#predictions\n",
    "#predictions.remove(293)"
   ]
  },
  {
   "cell_type": "code",
   "execution_count": 41,
   "id": "1e993b8b",
   "metadata": {},
   "outputs": [
    {
     "name": "stdout",
     "output_type": "stream",
     "text": [
      "RMSE Value : 576.331\n"
     ]
    }
   ],
   "source": [
    "rmse = sqrt(mean_squared_error(test, predictions))\n",
    "print('RMSE Value : %.3f' % rmse)"
   ]
  },
  {
   "cell_type": "code",
   "execution_count": 45,
   "id": "1f06be70",
   "metadata": {},
   "outputs": [
    {
     "data": {
      "text/plain": [
       "576.33136"
      ]
     },
     "execution_count": 45,
     "metadata": {},
     "output_type": "execute_result"
    }
   ],
   "source": [
    "RMSE(test,predictions)"
   ]
  },
  {
   "cell_type": "code",
   "execution_count": 46,
   "id": "b92054ad",
   "metadata": {},
   "outputs": [],
   "source": [
    "rmse_Persistence_model = 576.331"
   ]
  },
  {
   "cell_type": "markdown",
   "id": "4ee99e52",
   "metadata": {},
   "source": [
    "## Evaluation"
   ]
  },
  {
   "cell_type": "code",
   "execution_count": 47,
   "id": "d981f814",
   "metadata": {},
   "outputs": [],
   "source": [
    "list = [['Simple Exponential Method',SEM], ['Holt method',HM],\n",
    "          ['Holt exp smoothing add',HWEA],['Holt exp smoothing multi',HWEM],\n",
    "          ['Linear Model',LM],['Exponential model',EM],['Quadratic model',QM],\n",
    "          ['Persistence/ Base model', rmse_Persistence_model]]"
   ]
  },
  {
   "cell_type": "code",
   "execution_count": 48,
   "id": "600cc5a2",
   "metadata": {
    "scrolled": true
   },
   "outputs": [
    {
     "data": {
      "text/html": [
       "<div>\n",
       "<style scoped>\n",
       "    .dataframe tbody tr th:only-of-type {\n",
       "        vertical-align: middle;\n",
       "    }\n",
       "\n",
       "    .dataframe tbody tr th {\n",
       "        vertical-align: top;\n",
       "    }\n",
       "\n",
       "    .dataframe thead th {\n",
       "        text-align: right;\n",
       "    }\n",
       "</style>\n",
       "<table border=\"1\" class=\"dataframe\">\n",
       "  <thead>\n",
       "    <tr style=\"text-align: right;\">\n",
       "      <th></th>\n",
       "      <th>Model</th>\n",
       "      <th>RMSE_Value</th>\n",
       "    </tr>\n",
       "  </thead>\n",
       "  <tbody>\n",
       "    <tr>\n",
       "      <th>0</th>\n",
       "      <td>Simple Exponential Method</td>\n",
       "      <td>532.974725</td>\n",
       "    </tr>\n",
       "    <tr>\n",
       "      <th>1</th>\n",
       "      <td>Holt method</td>\n",
       "      <td>471.778663</td>\n",
       "    </tr>\n",
       "    <tr>\n",
       "      <th>2</th>\n",
       "      <td>Holt exp smoothing add</td>\n",
       "      <td>259.796963</td>\n",
       "    </tr>\n",
       "    <tr>\n",
       "      <th>3</th>\n",
       "      <td>Holt exp smoothing multi</td>\n",
       "      <td>69.133218</td>\n",
       "    </tr>\n",
       "    <tr>\n",
       "      <th>4</th>\n",
       "      <td>Linear Model</td>\n",
       "      <td>636.507293</td>\n",
       "    </tr>\n",
       "    <tr>\n",
       "      <th>5</th>\n",
       "      <td>Exponential model</td>\n",
       "      <td>493.348648</td>\n",
       "    </tr>\n",
       "    <tr>\n",
       "      <th>6</th>\n",
       "      <td>Quadratic model</td>\n",
       "      <td>511.811732</td>\n",
       "    </tr>\n",
       "    <tr>\n",
       "      <th>7</th>\n",
       "      <td>Persistence/ Base model</td>\n",
       "      <td>576.331000</td>\n",
       "    </tr>\n",
       "  </tbody>\n",
       "</table>\n",
       "</div>"
      ],
      "text/plain": [
       "                       Model  RMSE_Value\n",
       "0  Simple Exponential Method  532.974725\n",
       "1                Holt method  471.778663\n",
       "2     Holt exp smoothing add  259.796963\n",
       "3   Holt exp smoothing multi   69.133218\n",
       "4               Linear Model  636.507293\n",
       "5          Exponential model  493.348648\n",
       "6            Quadratic model  511.811732\n",
       "7    Persistence/ Base model  576.331000"
      ]
     },
     "execution_count": 48,
     "metadata": {},
     "output_type": "execute_result"
    }
   ],
   "source": [
    "df = pd.DataFrame(list, columns = ['Model', 'RMSE_Value']) \n",
    "df"
   ]
  },
  {
   "cell_type": "markdown",
   "id": "3c4507eb",
   "metadata": {},
   "source": [
    "### Conclusions\n",
    "\n",
    "#### Holts winter Method has the highest value of RMSE and hence is chosen for deployment."
   ]
  }
 ],
 "metadata": {
  "kernelspec": {
   "display_name": "Python 3 (ipykernel)",
   "language": "python",
   "name": "python3"
  },
  "language_info": {
   "codemirror_mode": {
    "name": "ipython",
    "version": 3
   },
   "file_extension": ".py",
   "mimetype": "text/x-python",
   "name": "python",
   "nbconvert_exporter": "python",
   "pygments_lexer": "ipython3",
   "version": "3.9.13"
  }
 },
 "nbformat": 4,
 "nbformat_minor": 5
}
